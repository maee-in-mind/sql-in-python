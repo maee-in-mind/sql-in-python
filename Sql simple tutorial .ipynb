{
 "cells": [
  {
   "cell_type": "code",
   "execution_count": 17,
   "metadata": {},
   "outputs": [],
   "source": [
    "!pip install ipython-sql"
   ]
  },
  {
   "cell_type": "code",
   "execution_count": 29,
   "metadata": {},
   "outputs": [],
   "source": [
    "import sqlite3\n",
    "db = sqlite3.connect('fst.db')\n",
    "crsr = db.cursor() \n",
    "\n",
    "  \n",
    "# SQL command to create a table in the database \n",
    "\n",
    "sql_command = \"\"\"CREATE TABLE emp11 (  \n",
    "staff_number INTEGER PRIMARY KEY,  \n",
    "fname VARCHAR(20),  \n",
    "lname VARCHAR(30),  \n",
    "gender CHAR(1),  \n",
    "joining DATE);\"\"\"\n",
    "\n",
    "crsr.execute(sql_command) \n",
    "\n",
    "  \n",
    "# SQL command to insert the data in the table \n",
    "\n",
    "sql_command = \"\"\"INSERT INTO emp11 VALUES (23, \"Rishabh\", \"Bansal\", \"M\", \"2014-03-28\");\"\"\"\n",
    "crsr.execute(sql_command) \n",
    "\n",
    "  \n",
    "# another SQL command to insert the data in the table \n",
    "\n",
    "sql_command = \"\"\"INSERT INTO emp11 VALUES (1, \"Bill\", \"Gates\", \"M\", \"1980-10-28\");\"\"\"\n",
    "crsr.execute(sql_command) \n",
    "\n",
    "  \n",
    "# To save the changes in the files. Never skip this.  \n",
    "# If we skip this, nothing will be saved in the database. \n",
    "db.commit() \n",
    "\n",
    "  \n",
    "# close the connection \n",
    "#db.close() "
   ]
  },
  {
   "cell_type": "code",
   "execution_count": 30,
   "metadata": {},
   "outputs": [
    {
     "name": "stdout",
     "output_type": "stream",
     "text": [
      "[(1, 'Bill', 'Gates', 'M', '1980-10-28'), (23, 'Rishabh', 'Bansal', 'M', '2014-03-28')]\n"
     ]
    }
   ],
   "source": [
    "crsr.execute(\"SELECT * FROM emp11\")  \n",
    "\n",
    "  \n",
    "# store all the fetched data in the ans variable \n",
    "\n",
    "ans = crsr.fetchall()  \n",
    "print(ans)"
   ]
  },
  {
   "cell_type": "code",
   "execution_count": 31,
   "metadata": {},
   "outputs": [
    {
     "data": {
      "text/plain": [
       "list"
      ]
     },
     "execution_count": 31,
     "metadata": {},
     "output_type": "execute_result"
    }
   ],
   "source": [
    "type(ans)"
   ]
  },
  {
   "cell_type": "code",
   "execution_count": 32,
   "metadata": {},
   "outputs": [
    {
     "data": {
      "text/plain": [
       "sqlite3.Cursor"
      ]
     },
     "execution_count": 32,
     "metadata": {},
     "output_type": "execute_result"
    }
   ],
   "source": [
    "type (crsr)"
   ]
  },
  {
   "cell_type": "code",
   "execution_count": 33,
   "metadata": {},
   "outputs": [
    {
     "data": {
      "text/plain": [
       "sqlite3.Connection"
      ]
     },
     "execution_count": 33,
     "metadata": {},
     "output_type": "execute_result"
    }
   ],
   "source": [
    "type(db)"
   ]
  },
  {
   "cell_type": "code",
   "execution_count": null,
   "metadata": {},
   "outputs": [],
   "source": []
  }
 ],
 "metadata": {
  "kernelspec": {
   "display_name": "Python 3",
   "language": "python",
   "name": "python3"
  },
  "language_info": {
   "codemirror_mode": {
    "name": "ipython",
    "version": 3
   },
   "file_extension": ".py",
   "mimetype": "text/x-python",
   "name": "python",
   "nbconvert_exporter": "python",
   "pygments_lexer": "ipython3",
   "version": "3.7.2"
  }
 },
 "nbformat": 4,
 "nbformat_minor": 2
}
